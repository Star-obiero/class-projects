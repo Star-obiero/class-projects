{
 "cells": [
  {
   "cell_type": "markdown",
   "metadata": {},
   "source": [
    "if statement"
   ]
  },
  {
   "cell_type": "code",
   "execution_count": 7,
   "metadata": {},
   "outputs": [
    {
     "name": "stdout",
     "output_type": "stream",
     "text": [
      "sorry,soap is not avilabel right now\n"
     ]
    }
   ],
   "source": [
    "\n",
    "stock={\n",
    "    \"sugar\":10,\n",
    "    \"milk\":23,\n",
    "    \"bread\":50,\n",
    "    \"soaps\":34,\n",
    "    \"wheat flour\":20,\n",
    "}\n",
    "\n",
    "goods=input('what product do you need?')\n",
    "\n",
    "if goods in stock:\n",
    "  print(f'{get_overloads} product is availble please proceed to payment.')\n",
    "else:\n",
    "    print(f'sorry,{goods} is not avilabel right now')\n"
   ]
  },
  {
   "cell_type": "markdown",
   "metadata": {},
   "source": [
    "For loop"
   ]
  },
  {
   "cell_type": "code",
   "execution_count": 9,
   "metadata": {},
   "outputs": [
    {
     "name": "stdout",
     "output_type": "stream",
     "text": [
      "Reviewing stock and calculating revenue\n",
      "sugar:ksh75.0\n",
      "\n",
      "Estimated total revenue:ksh75.0\n",
      "milk:ksh70\n",
      "\n",
      "Estimated total revenue:ksh145.0\n",
      "bread:ksh80000\n",
      "\n",
      "Estimated total revenue:ksh80145.0\n",
      "soaps:ksh180\n",
      "\n",
      "Estimated total revenue:ksh80325.0\n",
      "wheat flour:ksh240\n",
      "\n",
      "Estimated total revenue:ksh80565.0\n"
     ]
    }
   ],
   "source": [
    "stock={\n",
    "    \"sugar\":{\"price\":150,\"quantity\":1/2},\n",
    "    \"milk\":{\"price\":70,\"quantity\":1},\n",
    "    \"bread\":{\"price\":100,\"quantity\":800},\n",
    "    \"soaps\":{\"price\":90,\"quantity\":2},\n",
    "    \"wheat flour\":{\"price\":120,\"quantity\":2},\n",
    "}\n",
    "total_revenue=0\n",
    "print(\"Reviewing stock and calculating revenue\")\n",
    "\n",
    "for products,data in stock.items():\n",
    "  revenue=data['price']*data['quantity']\n",
    "  total_revenue+=revenue\n",
    "  print(f'{products}:ksh{revenue}')\n",
    "  print(f'\\nEstimated total revenue:ksh{total_revenue}')"
   ]
  },
  {
   "cell_type": "markdown",
   "metadata": {},
   "source": [
    "While loop"
   ]
  },
  {
   "cell_type": "code",
   "execution_count": 12,
   "metadata": {},
   "outputs": [
    {
     "name": "stdout",
     "output_type": "stream",
     "text": [
      "Starting sales target tracking...\n",
      "\n",
      "day11:\n",
      "The total sales so far:ksh1000000.0\n",
      "\n",
      "day12:\n",
      "The total sales so far:ksh2000000.0\n",
      "\n",
      "Target reached total sale ksh2000000.0\n"
     ]
    }
   ],
   "source": [
    "target=1000000\n",
    "total_sales=0\n",
    "day=1\n",
    "\n",
    "print(\"Starting sales target tracking...\\n\")\n",
    "\n",
    "while total_sales<=target:\n",
    "    print(f'day1{day}:')\n",
    "    amount=float(input('Give the total amount of sales for this day'))\n",
    "\n",
    "    total_sales+=amount\n",
    "    print(f'The total sales so far:ksh{total_sales}\\n')\n",
    "    day+=1\n",
    "\n",
    "print(f'Target reached total sale ksh{total_sales}')"
   ]
  },
  {
   "cell_type": "markdown",
   "metadata": {},
   "source": [
    "Functions"
   ]
  },
  {
   "cell_type": "code",
   "execution_count": 23,
   "metadata": {},
   "outputs": [],
   "source": [
    "def calculating_profit_distribtion():\n",
    "    total_sales=float(input('enter the total sales(ksh):'))\n",
    "    total_cost=float(input('enter the total cost(ksh):'))\n",
    "    num_workers=int(input('How many workers do you have:'))\n",
    "\n",
    "    profit=total_sales-total_cost\n",
    "    if num_workers>0:\n",
    "        pay_per_woker=profit/num_workers\n",
    "    else:\n",
    "        pay_per_woker=0\n",
    "\n",
    "    return profit,pay_per_woker\n",
    "\n"
   ]
  },
  {
   "cell_type": "code",
   "execution_count": 26,
   "metadata": {},
   "outputs": [
    {
     "name": "stdout",
     "output_type": "stream",
     "text": [
      "\n",
      " Total profit:ksh600000.0\n",
      "Each worker will be paid ksh50000.0\n"
     ]
    }
   ],
   "source": [
    "profit,pay_per_woker=calculating_profit_distribtion()\n",
    "print(f'\\n Total profit:ksh{profit}')\n",
    "print(f'Each worker will be paid ksh{pay_per_woker}')"
   ]
  }
 ],
 "metadata": {
  "kernelspec": {
   "display_name": "Python 3",
   "language": "python",
   "name": "python3"
  },
  "language_info": {
   "codemirror_mode": {
    "name": "ipython",
    "version": 3
   },
   "file_extension": ".py",
   "mimetype": "text/x-python",
   "name": "python",
   "nbconvert_exporter": "python",
   "pygments_lexer": "ipython3",
   "version": "3.13.2"
  }
 },
 "nbformat": 4,
 "nbformat_minor": 2
}
