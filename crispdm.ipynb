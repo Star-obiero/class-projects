{
 "cells": [
  {
   "cell_type": "code",
   "execution_count": 1,
   "metadata": {},
   "outputs": [
    {
     "name": "stdout",
     "output_type": "stream",
     "text": [
      "Collecting kagglehub\n",
      "  Using cached kagglehub-0.3.12-py3-none-any.whl.metadata (38 kB)\n",
      "Requirement already satisfied: packaging in c:\\users\\administrator\\appdata\\roaming\\python\\python313\\site-packages (from kagglehub) (25.0)\n",
      "Collecting pyyaml (from kagglehub)\n",
      "  Downloading PyYAML-6.0.2-cp313-cp313-win_amd64.whl.metadata (2.1 kB)\n",
      "Requirement already satisfied: requests in c:\\users\\administrator\\appdata\\local\\programs\\python\\python313\\lib\\site-packages (from kagglehub) (2.32.4)\n",
      "Collecting tqdm (from kagglehub)\n",
      "  Using cached tqdm-4.67.1-py3-none-any.whl.metadata (57 kB)\n",
      "Requirement already satisfied: charset_normalizer<4,>=2 in c:\\users\\administrator\\appdata\\local\\programs\\python\\python313\\lib\\site-packages (from requests->kagglehub) (3.4.2)\n",
      "Requirement already satisfied: idna<4,>=2.5 in c:\\users\\administrator\\appdata\\local\\programs\\python\\python313\\lib\\site-packages (from requests->kagglehub) (3.10)\n",
      "Requirement already satisfied: urllib3<3,>=1.21.1 in c:\\users\\administrator\\appdata\\local\\programs\\python\\python313\\lib\\site-packages (from requests->kagglehub) (2.5.0)\n",
      "Requirement already satisfied: certifi>=2017.4.17 in c:\\users\\administrator\\appdata\\local\\programs\\python\\python313\\lib\\site-packages (from requests->kagglehub) (2025.7.14)\n",
      "Requirement already satisfied: colorama in c:\\users\\administrator\\appdata\\roaming\\python\\python313\\site-packages (from tqdm->kagglehub) (0.4.6)\n",
      "Using cached kagglehub-0.3.12-py3-none-any.whl (67 kB)\n",
      "Downloading PyYAML-6.0.2-cp313-cp313-win_amd64.whl (156 kB)\n",
      "Using cached tqdm-4.67.1-py3-none-any.whl (78 kB)\n",
      "Installing collected packages: tqdm, pyyaml, kagglehub\n",
      "Successfully installed kagglehub-0.3.12 pyyaml-6.0.2 tqdm-4.67.1\n",
      "Note: you may need to restart the kernel to use updated packages.\n"
     ]
    },
    {
     "name": "stderr",
     "output_type": "stream",
     "text": [
      "\n",
      "[notice] A new release of pip is available: 24.3.1 -> 25.1.1\n",
      "[notice] To update, run: python.exe -m pip install --upgrade pip\n"
     ]
    }
   ],
   "source": [
    "%pip install kagglehub"
   ]
  },
  {
   "cell_type": "markdown",
   "metadata": {},
   "source": [
    "Netflix Data set Analysis"
   ]
  },
  {
   "cell_type": "code",
   "execution_count": 4,
   "metadata": {},
   "outputs": [
    {
     "name": "stderr",
     "output_type": "stream",
     "text": [
      "c:\\Users\\Administrator\\AppData\\Local\\Programs\\Python\\Python313\\Lib\\site-packages\\tqdm\\auto.py:21: TqdmWarning: IProgress not found. Please update jupyter and ipywidgets. See https://ipywidgets.readthedocs.io/en/stable/user_install.html\n",
      "  from .autonotebook import tqdm as notebook_tqdm\n"
     ]
    },
    {
     "name": "stdout",
     "output_type": "stream",
     "text": [
      "C:\\Users\\Administrator\\.cache\\kagglehub\\datasets\\divyaraj2006\\netflix-tv-shows-and-movies\\versions\\1\\Netflix.csv\n"
     ]
    }
   ],
   "source": [
    "import os\n",
    "import kagglehub\n",
    "\n",
    "# Download latest version\n",
    "path = kagglehub.dataset_download(\"divyaraj2006/netflix-tv-shows-and-movies\")\n",
    "\n",
    "for root, dirs, files in os.walk(path):\n",
    "    for file in files:\n",
    "        print(os.path.join(root, file))"
   ]
  },
  {
   "cell_type": "code",
   "execution_count": 3,
   "metadata": {},
   "outputs": [],
   "source": [
    "import pandas as pd"
   ]
  },
  {
   "cell_type": "code",
   "execution_count": 6,
   "metadata": {},
   "outputs": [],
   "source": [
    "file_path=r'C:\\Users\\Administrator\\.cache\\kagglehub\\datasets\\divyaraj2006\\netflix-tv-shows-and-movies\\versions\\1\\Netflix.csv'"
   ]
  },
  {
   "cell_type": "code",
   "execution_count": 7,
   "metadata": {},
   "outputs": [
    {
     "data": {
      "text/html": [
       "<div>\n",
       "<style scoped>\n",
       "    .dataframe tbody tr th:only-of-type {\n",
       "        vertical-align: middle;\n",
       "    }\n",
       "\n",
       "    .dataframe tbody tr th {\n",
       "        vertical-align: top;\n",
       "    }\n",
       "\n",
       "    .dataframe thead th {\n",
       "        text-align: right;\n",
       "    }\n",
       "</style>\n",
       "<table border=\"1\" class=\"dataframe\">\n",
       "  <thead>\n",
       "    <tr style=\"text-align: right;\">\n",
       "      <th></th>\n",
       "      <th>show_id</th>\n",
       "      <th>type</th>\n",
       "      <th>title</th>\n",
       "      <th>director</th>\n",
       "      <th>cast</th>\n",
       "      <th>country</th>\n",
       "      <th>date_added</th>\n",
       "      <th>release_year</th>\n",
       "      <th>rating</th>\n",
       "      <th>duration</th>\n",
       "      <th>listed_in</th>\n",
       "      <th>description</th>\n",
       "    </tr>\n",
       "  </thead>\n",
       "  <tbody>\n",
       "    <tr>\n",
       "      <th>0</th>\n",
       "      <td>s1</td>\n",
       "      <td>Movie</td>\n",
       "      <td>Dick Johnson Is Dead</td>\n",
       "      <td>Kirsten Johnson</td>\n",
       "      <td>NaN</td>\n",
       "      <td>United States</td>\n",
       "      <td>25-Sep-21</td>\n",
       "      <td>2020</td>\n",
       "      <td>PG-13</td>\n",
       "      <td>90 min</td>\n",
       "      <td>Documentaries</td>\n",
       "      <td>As her father nears the end of his life, filmm...</td>\n",
       "    </tr>\n",
       "    <tr>\n",
       "      <th>1</th>\n",
       "      <td>s2</td>\n",
       "      <td>TV Show</td>\n",
       "      <td>Blood &amp; Water</td>\n",
       "      <td>NaN</td>\n",
       "      <td>Ama Qamata, Khosi Ngema, Gail Mabalane, Thaban...</td>\n",
       "      <td>South Africa</td>\n",
       "      <td>24-Sep-21</td>\n",
       "      <td>2021</td>\n",
       "      <td>TV-MA</td>\n",
       "      <td>2 Seasons</td>\n",
       "      <td>International TV Shows, TV Dramas, TV Mysteries</td>\n",
       "      <td>After crossing paths at a party, a Cape Town t...</td>\n",
       "    </tr>\n",
       "    <tr>\n",
       "      <th>2</th>\n",
       "      <td>s3</td>\n",
       "      <td>TV Show</td>\n",
       "      <td>Ganglands</td>\n",
       "      <td>Julien Leclercq</td>\n",
       "      <td>Sami Bouajila, Tracy Gotoas, Samuel Jouy, Nabi...</td>\n",
       "      <td>NaN</td>\n",
       "      <td>24-Sep-21</td>\n",
       "      <td>2021</td>\n",
       "      <td>TV-MA</td>\n",
       "      <td>1 Season</td>\n",
       "      <td>Crime TV Shows, International TV Shows, TV Act...</td>\n",
       "      <td>To protect his family from a powerful drug lor...</td>\n",
       "    </tr>\n",
       "    <tr>\n",
       "      <th>3</th>\n",
       "      <td>s4</td>\n",
       "      <td>TV Show</td>\n",
       "      <td>Jailbirds New Orleans</td>\n",
       "      <td>NaN</td>\n",
       "      <td>NaN</td>\n",
       "      <td>NaN</td>\n",
       "      <td>24-Sep-21</td>\n",
       "      <td>2021</td>\n",
       "      <td>TV-MA</td>\n",
       "      <td>1 Season</td>\n",
       "      <td>Docuseries, Reality TV</td>\n",
       "      <td>Feuds, flirtations and toilet talk go down amo...</td>\n",
       "    </tr>\n",
       "    <tr>\n",
       "      <th>4</th>\n",
       "      <td>s5</td>\n",
       "      <td>TV Show</td>\n",
       "      <td>Kota Factory</td>\n",
       "      <td>NaN</td>\n",
       "      <td>Mayur More, Jitendra Kumar, Ranjan Raj, Alam K...</td>\n",
       "      <td>India</td>\n",
       "      <td>24-Sep-21</td>\n",
       "      <td>2021</td>\n",
       "      <td>TV-MA</td>\n",
       "      <td>2 Seasons</td>\n",
       "      <td>International TV Shows, Romantic TV Shows, TV ...</td>\n",
       "      <td>In a city of coaching centers known to train I...</td>\n",
       "    </tr>\n",
       "    <tr>\n",
       "      <th>...</th>\n",
       "      <td>...</td>\n",
       "      <td>...</td>\n",
       "      <td>...</td>\n",
       "      <td>...</td>\n",
       "      <td>...</td>\n",
       "      <td>...</td>\n",
       "      <td>...</td>\n",
       "      <td>...</td>\n",
       "      <td>...</td>\n",
       "      <td>...</td>\n",
       "      <td>...</td>\n",
       "      <td>...</td>\n",
       "    </tr>\n",
       "    <tr>\n",
       "      <th>195</th>\n",
       "      <td>s196</td>\n",
       "      <td>Movie</td>\n",
       "      <td>EMI: Liya Hai To Chukana Padega</td>\n",
       "      <td>Saurabh Kabra</td>\n",
       "      <td>Sanjay Dutt, Arjun Rampal, Malaika Arora, Aash...</td>\n",
       "      <td>India</td>\n",
       "      <td>27-Aug-21</td>\n",
       "      <td>2008</td>\n",
       "      <td>TV-14</td>\n",
       "      <td>128 min</td>\n",
       "      <td>Comedies, Dramas, International Movies</td>\n",
       "      <td>A bank hires an enigmatic and unorthodox debt ...</td>\n",
       "    </tr>\n",
       "    <tr>\n",
       "      <th>196</th>\n",
       "      <td>s197</td>\n",
       "      <td>Movie</td>\n",
       "      <td>He's All That</td>\n",
       "      <td>Mark Waters</td>\n",
       "      <td>Addison Rae, Tanner Buchanan, Rachael Leigh Co...</td>\n",
       "      <td>NaN</td>\n",
       "      <td>27-Aug-21</td>\n",
       "      <td>2021</td>\n",
       "      <td>TV-14</td>\n",
       "      <td>92 min</td>\n",
       "      <td>Comedies, Romantic Movies</td>\n",
       "      <td>An influencer specializing in makeovers bets s...</td>\n",
       "    </tr>\n",
       "    <tr>\n",
       "      <th>197</th>\n",
       "      <td>s198</td>\n",
       "      <td>TV Show</td>\n",
       "      <td>I Heart Arlo</td>\n",
       "      <td>NaN</td>\n",
       "      <td>Michael J. Woodard, Mary Lambert, Jonathan Van...</td>\n",
       "      <td>NaN</td>\n",
       "      <td>27-Aug-21</td>\n",
       "      <td>2021</td>\n",
       "      <td>TV-Y7</td>\n",
       "      <td>1 Season</td>\n",
       "      <td>Kids' TV, TV Comedies</td>\n",
       "      <td>It's a whole new world for Arlo and his one-of...</td>\n",
       "    </tr>\n",
       "    <tr>\n",
       "      <th>198</th>\n",
       "      <td>s199</td>\n",
       "      <td>TV Show</td>\n",
       "      <td>King of Boys: The Return of the King</td>\n",
       "      <td>Kemi Adetiba</td>\n",
       "      <td>Sola Sobowale, Toni Tones, Richard Mofe-Damijo...</td>\n",
       "      <td>Nigeria</td>\n",
       "      <td>27-Aug-21</td>\n",
       "      <td>2021</td>\n",
       "      <td>TV-MA</td>\n",
       "      <td>1 Season</td>\n",
       "      <td>Crime TV Shows, International TV Shows, TV Dramas</td>\n",
       "      <td>Alhaja Eniola Salami starts anew and sets her ...</td>\n",
       "    </tr>\n",
       "    <tr>\n",
       "      <th>199</th>\n",
       "      <td>s200</td>\n",
       "      <td>Movie</td>\n",
       "      <td>Koi Aap Sa</td>\n",
       "      <td>Partho Mitra</td>\n",
       "      <td>Aftab Shivdasani, Natassha, Dipannita Sharma, ...</td>\n",
       "      <td>India</td>\n",
       "      <td>27-Aug-21</td>\n",
       "      <td>2006</td>\n",
       "      <td>TV-14</td>\n",
       "      <td>135 min</td>\n",
       "      <td>Comedies, Dramas, International Movies</td>\n",
       "      <td>Star athlete Rohan has his eye on a beautiful ...</td>\n",
       "    </tr>\n",
       "  </tbody>\n",
       "</table>\n",
       "<p>200 rows × 12 columns</p>\n",
       "</div>"
      ],
      "text/plain": [
       "    show_id     type                                 title         director  \\\n",
       "0        s1    Movie                  Dick Johnson Is Dead  Kirsten Johnson   \n",
       "1        s2  TV Show                         Blood & Water              NaN   \n",
       "2        s3  TV Show                             Ganglands  Julien Leclercq   \n",
       "3        s4  TV Show                 Jailbirds New Orleans              NaN   \n",
       "4        s5  TV Show                          Kota Factory              NaN   \n",
       "..      ...      ...                                   ...              ...   \n",
       "195    s196    Movie       EMI: Liya Hai To Chukana Padega    Saurabh Kabra   \n",
       "196    s197    Movie                         He's All That      Mark Waters   \n",
       "197    s198  TV Show                          I Heart Arlo              NaN   \n",
       "198    s199  TV Show  King of Boys: The Return of the King     Kemi Adetiba   \n",
       "199    s200    Movie                            Koi Aap Sa     Partho Mitra   \n",
       "\n",
       "                                                  cast        country  \\\n",
       "0                                                  NaN  United States   \n",
       "1    Ama Qamata, Khosi Ngema, Gail Mabalane, Thaban...   South Africa   \n",
       "2    Sami Bouajila, Tracy Gotoas, Samuel Jouy, Nabi...            NaN   \n",
       "3                                                  NaN            NaN   \n",
       "4    Mayur More, Jitendra Kumar, Ranjan Raj, Alam K...          India   \n",
       "..                                                 ...            ...   \n",
       "195  Sanjay Dutt, Arjun Rampal, Malaika Arora, Aash...          India   \n",
       "196  Addison Rae, Tanner Buchanan, Rachael Leigh Co...            NaN   \n",
       "197  Michael J. Woodard, Mary Lambert, Jonathan Van...            NaN   \n",
       "198  Sola Sobowale, Toni Tones, Richard Mofe-Damijo...        Nigeria   \n",
       "199  Aftab Shivdasani, Natassha, Dipannita Sharma, ...          India   \n",
       "\n",
       "    date_added  release_year rating   duration  \\\n",
       "0    25-Sep-21          2020  PG-13     90 min   \n",
       "1    24-Sep-21          2021  TV-MA  2 Seasons   \n",
       "2    24-Sep-21          2021  TV-MA   1 Season   \n",
       "3    24-Sep-21          2021  TV-MA   1 Season   \n",
       "4    24-Sep-21          2021  TV-MA  2 Seasons   \n",
       "..         ...           ...    ...        ...   \n",
       "195  27-Aug-21          2008  TV-14    128 min   \n",
       "196  27-Aug-21          2021  TV-14     92 min   \n",
       "197  27-Aug-21          2021  TV-Y7   1 Season   \n",
       "198  27-Aug-21          2021  TV-MA   1 Season   \n",
       "199  27-Aug-21          2006  TV-14    135 min   \n",
       "\n",
       "                                             listed_in  \\\n",
       "0                                        Documentaries   \n",
       "1      International TV Shows, TV Dramas, TV Mysteries   \n",
       "2    Crime TV Shows, International TV Shows, TV Act...   \n",
       "3                               Docuseries, Reality TV   \n",
       "4    International TV Shows, Romantic TV Shows, TV ...   \n",
       "..                                                 ...   \n",
       "195             Comedies, Dramas, International Movies   \n",
       "196                          Comedies, Romantic Movies   \n",
       "197                              Kids' TV, TV Comedies   \n",
       "198  Crime TV Shows, International TV Shows, TV Dramas   \n",
       "199             Comedies, Dramas, International Movies   \n",
       "\n",
       "                                           description  \n",
       "0    As her father nears the end of his life, filmm...  \n",
       "1    After crossing paths at a party, a Cape Town t...  \n",
       "2    To protect his family from a powerful drug lor...  \n",
       "3    Feuds, flirtations and toilet talk go down amo...  \n",
       "4    In a city of coaching centers known to train I...  \n",
       "..                                                 ...  \n",
       "195  A bank hires an enigmatic and unorthodox debt ...  \n",
       "196  An influencer specializing in makeovers bets s...  \n",
       "197  It's a whole new world for Arlo and his one-of...  \n",
       "198  Alhaja Eniola Salami starts anew and sets her ...  \n",
       "199  Star athlete Rohan has his eye on a beautiful ...  \n",
       "\n",
       "[200 rows x 12 columns]"
      ]
     },
     "execution_count": 7,
     "metadata": {},
     "output_type": "execute_result"
    }
   ],
   "source": [
    "nt_df=pd.read_csv(file_path)\n",
    "nt_df"
   ]
  },
  {
   "cell_type": "markdown",
   "metadata": {},
   "source": [
    "Objectives\n",
    "1 Actors commonly featured\n",
    "2. Dominating content\n",
    "3.Countries with most content\n",
    "4.When was content added the most"
   ]
  },
  {
   "cell_type": "markdown",
   "metadata": {},
   "source": [
    "Data Understanding"
   ]
  },
  {
   "cell_type": "code",
   "execution_count": 14,
   "metadata": {},
   "outputs": [
    {
     "data": {
      "text/plain": [
       "(200, 12)"
      ]
     },
     "execution_count": 14,
     "metadata": {},
     "output_type": "execute_result"
    }
   ],
   "source": [
    "nt_df.shape"
   ]
  },
  {
   "cell_type": "code",
   "execution_count": 15,
   "metadata": {},
   "outputs": [
    {
     "name": "stdout",
     "output_type": "stream",
     "text": [
      "<class 'pandas.core.frame.DataFrame'>\n",
      "RangeIndex: 200 entries, 0 to 199\n",
      "Data columns (total 12 columns):\n",
      " #   Column        Non-Null Count  Dtype \n",
      "---  ------        --------------  ----- \n",
      " 0   show_id       200 non-null    object\n",
      " 1   type          200 non-null    object\n",
      " 2   title         200 non-null    object\n",
      " 3   director      137 non-null    object\n",
      " 4   cast          180 non-null    object\n",
      " 5   country       136 non-null    object\n",
      " 6   date_added    200 non-null    object\n",
      " 7   release_year  200 non-null    int64 \n",
      " 8   rating        200 non-null    object\n",
      " 9   duration      200 non-null    object\n",
      " 10  listed_in     200 non-null    object\n",
      " 11  description   200 non-null    object\n",
      "dtypes: int64(1), object(11)\n",
      "memory usage: 18.9+ KB\n"
     ]
    }
   ],
   "source": [
    "nt_df.info()"
   ]
  },
  {
   "cell_type": "markdown",
   "metadata": {},
   "source": [
    "checking missing values"
   ]
  },
  {
   "cell_type": "code",
   "execution_count": 16,
   "metadata": {},
   "outputs": [
    {
     "data": {
      "text/plain": [
       "show_id          0\n",
       "type             0\n",
       "title            0\n",
       "director        63\n",
       "cast            20\n",
       "country         64\n",
       "date_added       0\n",
       "release_year     0\n",
       "rating           0\n",
       "duration         0\n",
       "listed_in        0\n",
       "description      0\n",
       "dtype: int64"
      ]
     },
     "execution_count": 16,
     "metadata": {},
     "output_type": "execute_result"
    }
   ],
   "source": [
    "nt_df.isna().sum()"
   ]
  },
  {
   "cell_type": "markdown",
   "metadata": {},
   "source": [
    "Looking for Extrenous values"
   ]
  },
  {
   "cell_type": "code",
   "execution_count": 18,
   "metadata": {},
   "outputs": [
    {
     "name": "stdout",
     "output_type": "stream",
     "text": [
      "show_id \n",
      " show_id\n",
      "s1    0.005\n",
      "s2    0.005\n",
      "s3    0.005\n",
      "s4    0.005\n",
      "s5    0.005\n",
      "Name: proportion, dtype: float64 \n",
      "\n",
      "\n",
      "type \n",
      " type\n",
      "Movie      0.635\n",
      "TV Show    0.365\n",
      "Name: proportion, dtype: float64 \n",
      "\n",
      "\n",
      "title \n",
      " title\n",
      "Dick Johnson Is Dead     0.005\n",
      "Blood & Water            0.005\n",
      "Ganglands                0.005\n",
      "Jailbirds New Orleans    0.005\n",
      "Kota Factory             0.005\n",
      "Name: proportion, dtype: float64 \n",
      "\n",
      "\n",
      "director \n",
      " director\n",
      "Toshiya Shinohara           0.029197\n",
      "Masahiko Murata             0.021898\n",
      "Hajime Kamegaki             0.014599\n",
      "Antoine Fuqua               0.014599\n",
      "Chapman Way, Maclain Way    0.014599\n",
      "Name: proportion, dtype: float64 \n",
      "\n",
      "\n",
      "cast \n",
      " cast\n",
      "Vijay Sethupathi, Parthiban, Raashi Khanna                                                                                                                                                                                                                                                                         0.011111\n",
      "Sami Bouajila, Tracy Gotoas, Samuel Jouy, Nabiha Akkari, Sofia Lesaffre, Salim Kechiouche, Noureddine Farihi, Geert Van Rampelberg, Bakary Diombera                                                                                                                                                                0.005556\n",
      "Ama Qamata, Khosi Ngema, Gail Mabalane, Thabang Molaba, Dillon Windvogel, Natasha Thahane, Arno Greeff, Xolile Tshabalala, Getmore Sithole, Cindy Mahlangu, Ryle De Morny, Greteli Fincham, Sello Maake Ka-Ncube, Odwa Gwanya, Mekaila Mathys, Sandi Schultz, Duane Williams, Shamilla Miller, Patrick Mofokeng    0.005556\n",
      "Kate Siegel, Zach Gilford, Hamish Linklater, Henry Thomas, Kristin Lehman, Samantha Sloyan, Igby Rigney, Rahul Kohli, Annarah Cymone, Annabeth Gish, Alex Essoe, Rahul Abburi, Matt Biedel, Michael Trucco, Crystal Balint, Louis Oliver                                                                           0.005556\n",
      "Vanessa Hudgens, Kimiko Glenn, James Marsden, Sofia Carson, Liza Koshy, Ken Jeong, Elizabeth Perkins, Jane Krakowski, Michael McKean, Phil LaMarr                                                                                                                                                                  0.005556\n",
      "Name: proportion, dtype: float64 \n",
      "\n",
      "\n",
      "country \n",
      " country\n",
      "United States     0.367647\n",
      "India             0.110294\n",
      "Japan             0.102941\n",
      "United Kingdom    0.036765\n",
      "Nigeria           0.029412\n",
      "Name: proportion, dtype: float64 \n",
      "\n",
      "\n",
      "date_added \n",
      " date_added\n",
      "1-Sep-21     0.28\n",
      "15-Sep-21    0.11\n",
      "2-Sep-21     0.07\n",
      "16-Sep-21    0.06\n",
      "24-Sep-21    0.05\n",
      "Name: proportion, dtype: float64 \n",
      "\n",
      "\n",
      "release_year \n",
      " release_year\n",
      "2021    0.390\n",
      "2020    0.065\n",
      "2017    0.040\n",
      "2003    0.035\n",
      "2018    0.035\n",
      "Name: proportion, dtype: float64 \n",
      "\n",
      "\n",
      "rating \n",
      " rating\n",
      "TV-MA    0.250\n",
      "TV-14    0.170\n",
      "PG-13    0.140\n",
      "R        0.115\n",
      "TV-PG    0.110\n",
      "Name: proportion, dtype: float64 \n",
      "\n",
      "\n",
      "duration \n",
      " duration\n",
      "1 Season     0.215\n",
      "2 Seasons    0.065\n",
      "95 min       0.035\n",
      "3 Seasons    0.025\n",
      "97 min       0.025\n",
      "Name: proportion, dtype: float64 \n",
      "\n",
      "\n",
      "listed_in \n",
      " listed_in\n",
      "Action & Adventure, Anime Features, International Movies    0.06\n",
      "Kids' TV                                                    0.04\n",
      "Dramas, International Movies, Thrillers                     0.03\n",
      "Kids' TV, TV Comedies                                       0.03\n",
      "Children & Family Movies                                    0.03\n",
      "Name: proportion, dtype: float64 \n",
      "\n",
      "\n",
      "description \n",
      " description\n",
      "A budding politician has devious plans to rise in the ranks — until an unexpected new presence begins to interfere with his every crooked move.             0.010\n",
      "After crossing paths at a party, a Cape Town teen sets out to prove whether a private-school swimming star is her sister who was abducted at birth.         0.005\n",
      "As her father nears the end of his life, filmmaker Kirsten Johnson stages his death in inventive and comical ways to help them both face the inevitable.    0.005\n",
      "Feuds, flirtations and toilet talk go down among the incarcerated women at the Orleans Justice Center in New Orleans on this gritty reality series.         0.005\n",
      "In a city of coaching centers known to train India’s finest collegiate minds, an earnest but unexceptional student and his friends navigate campus life.    0.005\n",
      "Name: proportion, dtype: float64 \n",
      "\n",
      "\n"
     ]
    }
   ],
   "source": [
    "for col in nt_df.columns:\n",
    "    print(col, '\\n', nt_df[col].value_counts(normalize=True).head(), '\\n\\n')"
   ]
  },
  {
   "cell_type": "markdown",
   "metadata": {},
   "source": [
    "Checking duplicates"
   ]
  },
  {
   "cell_type": "code",
   "execution_count": 20,
   "metadata": {},
   "outputs": [
    {
     "data": {
      "text/plain": [
       "0      False\n",
       "1      False\n",
       "2      False\n",
       "3      False\n",
       "4      False\n",
       "       ...  \n",
       "195    False\n",
       "196    False\n",
       "197    False\n",
       "198    False\n",
       "199    False\n",
       "Length: 200, dtype: bool"
      ]
     },
     "execution_count": 20,
     "metadata": {},
     "output_type": "execute_result"
    }
   ],
   "source": [
    "duplicates=nt_df.duplicated()\n",
    "duplicates"
   ]
  },
  {
   "cell_type": "code",
   "execution_count": 26,
   "metadata": {},
   "outputs": [
    {
     "name": "stdout",
     "output_type": "stream",
     "text": [
      "0\n"
     ]
    }
   ],
   "source": [
    "duplicates=nt_df[nt_df.duplicated(subset='show_id')]\n",
    "print(len(duplicates))"
   ]
  },
  {
   "cell_type": "markdown",
   "metadata": {},
   "source": [
    "Data cleaning.\n",
    "Columns with missing values\n",
    "-director        63\n",
    "-cast            20\n",
    "-country         64"
   ]
  },
  {
   "cell_type": "code",
   "execution_count": 11,
   "metadata": {},
   "outputs": [
    {
     "data": {
      "text/plain": [
       "director\n",
       "Toshiya Shinohara           4\n",
       "Masahiko Murata             3\n",
       "Hajime Kamegaki             2\n",
       "Antoine Fuqua               2\n",
       "Chapman Way, Maclain Way    2\n",
       "                           ..\n",
       "Taylor Sheridan             1\n",
       "Sachin Yardi                1\n",
       "Saurabh Kabra               1\n",
       "Mark Waters                 1\n",
       "Partho Mitra                1\n",
       "Name: count, Length: 123, dtype: int64"
      ]
     },
     "execution_count": 11,
     "metadata": {},
     "output_type": "execute_result"
    }
   ],
   "source": [
    "nt_df['director'].value_counts()"
   ]
  },
  {
   "cell_type": "code",
   "execution_count": 29,
   "metadata": {},
   "outputs": [
    {
     "data": {
      "text/plain": [
       "cast\n",
       "Vijay Sethupathi, Parthiban, Raashi Khanna                                                                                                                                                                                                                                                                         2\n",
       "Sami Bouajila, Tracy Gotoas, Samuel Jouy, Nabiha Akkari, Sofia Lesaffre, Salim Kechiouche, Noureddine Farihi, Geert Van Rampelberg, Bakary Diombera                                                                                                                                                                1\n",
       "Ama Qamata, Khosi Ngema, Gail Mabalane, Thabang Molaba, Dillon Windvogel, Natasha Thahane, Arno Greeff, Xolile Tshabalala, Getmore Sithole, Cindy Mahlangu, Ryle De Morny, Greteli Fincham, Sello Maake Ka-Ncube, Odwa Gwanya, Mekaila Mathys, Sandi Schultz, Duane Williams, Shamilla Miller, Patrick Mofokeng    1\n",
       "Kate Siegel, Zach Gilford, Hamish Linklater, Henry Thomas, Kristin Lehman, Samantha Sloyan, Igby Rigney, Rahul Kohli, Annarah Cymone, Annabeth Gish, Alex Essoe, Rahul Abburi, Matt Biedel, Michael Trucco, Crystal Balint, Louis Oliver                                                                           1\n",
       "Vanessa Hudgens, Kimiko Glenn, James Marsden, Sofia Carson, Liza Koshy, Ken Jeong, Elizabeth Perkins, Jane Krakowski, Michael McKean, Phil LaMarr                                                                                                                                                                  1\n",
       "                                                                                                                                                                                                                                                                                                                  ..\n",
       "Sanjay Dutt, Arjun Rampal, Malaika Arora, Aashish Chaudhary, Neha Uberoi, Urmila Matondkar, Manoj Joshi, Daya Shankar Pandey, Pushkar Jog, Kulbhushan Kharbanda                                                                                                                                                    1\n",
       "Addison Rae, Tanner Buchanan, Rachael Leigh Cook, Madison Pettis, Isabella Crovetti, Matthew Lillard, Peyton Meyer, Annie Jacob, Myra Molloy, Kourtney Kardashian                                                                                                                                                  1\n",
       "Michael J. Woodard, Mary Lambert, Jonathan Van Ness, Haley Tju, Brett Gelman, Tony Hale, Vincent Rodriguez III, Annie Potts, Jessica Williams, Melissa Villaseñor, Cathy Vu, Jennifer Coolidge, Flea                                                                                                               1\n",
       "Sola Sobowale, Toni Tones, Richard Mofe-Damijo, Efa Iwara, Titi Kuti, Tobechukwu \"iLLbliss\" Ejiofor, Remilekun \"Reminisce\" Safaru, Charles  \"Charly Boy\" Oputa, Nse Ikpe-Etim, Keppy Ekpenyong Bassey, Bimbo Manuel, Akin Lewis, Lord Frank, Osas Ighodaro, Taiwo Ajai-Lycett, Paul Sambo                          1\n",
       "Aftab Shivdasani, Natassha, Dipannita Sharma, Himanshu Mallik, Vaidya Advai, Pushy Anand, Shama Deshpande, Rajendra Gupta                                                                                                                                                                                          1\n",
       "Name: count, Length: 179, dtype: int64"
      ]
     },
     "execution_count": 29,
     "metadata": {},
     "output_type": "execute_result"
    }
   ],
   "source": [
    "nt_df['cast'].value_counts()"
   ]
  },
  {
   "cell_type": "code",
   "execution_count": 30,
   "metadata": {},
   "outputs": [
    {
     "data": {
      "text/plain": [
       "country\n",
       "United States                                                            50\n",
       "India                                                                    15\n",
       "Japan                                                                    14\n",
       "United Kingdom                                                            5\n",
       "Nigeria                                                                   4\n",
       "United Kingdom, United States                                             4\n",
       "Australia                                                                 3\n",
       "France                                                                    2\n",
       "United States, Canada                                                     2\n",
       "South Korea                                                               2\n",
       "Germany, United States                                                    2\n",
       "United States, Ghana, Burkina Faso, United Kingdom, Germany, Ethiopia     1\n",
       "China, Canada, United States                                              1\n",
       "Finland                                                                   1\n",
       "United States, India, France                                              1\n",
       "Turkey                                                                    1\n",
       "Germany, Czech Republic                                                   1\n",
       "Mexico                                                                    1\n",
       "South Africa                                                              1\n",
       "Spain, United States                                                      1\n",
       "United States, United Kingdom                                             1\n",
       "Belgium                                                                   1\n",
       "South Africa, United States, Japan                                        1\n",
       "France, United States                                                     1\n",
       "United States, Singapore                                                  1\n",
       "Spain                                                                     1\n",
       "United Kingdom, Australia, France, United States                          1\n",
       "United Kingdom, Australia, France                                         1\n",
       "South Africa, United States                                               1\n",
       "United States, Mexico                                                     1\n",
       "United States, Italy, France, Japan                                       1\n",
       "United States, Italy, Romania, United Kingdom                             1\n",
       "Australia, United States                                                  1\n",
       "Argentina, Venezuela                                                      1\n",
       "United States, United Kingdom, Canada                                     1\n",
       "China, Hong Kong                                                          1\n",
       "Russia                                                                    1\n",
       "Canada                                                                    1\n",
       "Hong Kong                                                                 1\n",
       "United States, China, Hong Kong                                           1\n",
       "Italy, United States                                                      1\n",
       "United States, Germany                                                    1\n",
       "United Kingdom, Canada, United States                                     1\n",
       ", South Korea                                                             1\n",
       "Name: count, dtype: int64"
      ]
     },
     "execution_count": 30,
     "metadata": {},
     "output_type": "execute_result"
    }
   ],
   "source": [
    "nt_df['country'].value_counts()"
   ]
  },
  {
   "cell_type": "code",
   "execution_count": 34,
   "metadata": {},
   "outputs": [
    {
     "data": {
      "text/plain": [
       "0      United States\n",
       "1       South Africa\n",
       "2             uknown\n",
       "3             uknown\n",
       "4              India\n",
       "           ...      \n",
       "195            India\n",
       "196           uknown\n",
       "197           uknown\n",
       "198          Nigeria\n",
       "199            India\n",
       "Name: country, Length: 200, dtype: object"
      ]
     },
     "execution_count": 34,
     "metadata": {},
     "output_type": "execute_result"
    }
   ],
   "source": [
    "nt_df['country'].fillna('uknown')"
   ]
  },
  {
   "cell_type": "code",
   "execution_count": 35,
   "metadata": {},
   "outputs": [
    {
     "data": {
      "text/plain": [
       "0      Kirsten Johnson\n",
       "1               unkwon\n",
       "2      Julien Leclercq\n",
       "3               unkwon\n",
       "4               unkwon\n",
       "            ...       \n",
       "195      Saurabh Kabra\n",
       "196        Mark Waters\n",
       "197             unkwon\n",
       "198       Kemi Adetiba\n",
       "199       Partho Mitra\n",
       "Name: director, Length: 200, dtype: object"
      ]
     },
     "execution_count": 35,
     "metadata": {},
     "output_type": "execute_result"
    }
   ],
   "source": [
    "nt_df['director'].fillna('unkwon')"
   ]
  },
  {
   "cell_type": "code",
   "execution_count": 37,
   "metadata": {},
   "outputs": [
    {
     "data": {
      "text/plain": [
       "0                                                unknown\n",
       "1      Ama Qamata, Khosi Ngema, Gail Mabalane, Thaban...\n",
       "2      Sami Bouajila, Tracy Gotoas, Samuel Jouy, Nabi...\n",
       "3                                                unknown\n",
       "4      Mayur More, Jitendra Kumar, Ranjan Raj, Alam K...\n",
       "                             ...                        \n",
       "195    Sanjay Dutt, Arjun Rampal, Malaika Arora, Aash...\n",
       "196    Addison Rae, Tanner Buchanan, Rachael Leigh Co...\n",
       "197    Michael J. Woodard, Mary Lambert, Jonathan Van...\n",
       "198    Sola Sobowale, Toni Tones, Richard Mofe-Damijo...\n",
       "199    Aftab Shivdasani, Natassha, Dipannita Sharma, ...\n",
       "Name: cast, Length: 200, dtype: object"
      ]
     },
     "execution_count": 37,
     "metadata": {},
     "output_type": "execute_result"
    }
   ],
   "source": [
    "nt_df['cast'].fillna('unknown')"
   ]
  },
  {
   "cell_type": "code",
   "execution_count": 38,
   "metadata": {},
   "outputs": [
    {
     "data": {
      "text/plain": [
       "Index(['show_id', 'type', 'title', 'director', 'cast', 'country', 'date_added',\n",
       "       'release_year', 'rating', 'duration', 'listed_in', 'description'],\n",
       "      dtype='object')"
      ]
     },
     "execution_count": 38,
     "metadata": {},
     "output_type": "execute_result"
    }
   ],
   "source": [
    "nt_df.columns"
   ]
  },
  {
   "cell_type": "code",
   "execution_count": 45,
   "metadata": {},
   "outputs": [
    {
     "data": {
      "text/plain": [
       "0     2021-09-25\n",
       "1     2021-09-24\n",
       "2     2021-09-24\n",
       "3     2021-09-24\n",
       "4     2021-09-24\n",
       "         ...    \n",
       "195   2021-08-27\n",
       "196   2021-08-27\n",
       "197   2021-08-27\n",
       "198   2021-08-27\n",
       "199   2021-08-27\n",
       "Name: date_added, Length: 200, dtype: datetime64[ns]"
      ]
     },
     "execution_count": 45,
     "metadata": {},
     "output_type": "execute_result"
    }
   ],
   "source": [
    "nt_df['date_added']=pd.to_datetime(nt_df['date_added'])\n",
    "nt_df['date_added']"
   ]
  },
  {
   "cell_type": "markdown",
   "metadata": {},
   "source": [
    "Explaratory data Analysis"
   ]
  },
  {
   "cell_type": "code",
   "execution_count": 66,
   "metadata": {},
   "outputs": [],
   "source": [
    "import numpy as np\n",
    "import matplotlib.pyplot as plt\n",
    "import seaborn as sns\n",
    "plt.style.use('ggplot')\n",
    "%matplotlib inline"
   ]
  },
  {
   "cell_type": "code",
   "execution_count": 78,
   "metadata": {},
   "outputs": [
    {
     "data": {
      "text/html": [
       "<div>\n",
       "<style scoped>\n",
       "    .dataframe tbody tr th:only-of-type {\n",
       "        vertical-align: middle;\n",
       "    }\n",
       "\n",
       "    .dataframe tbody tr th {\n",
       "        vertical-align: top;\n",
       "    }\n",
       "\n",
       "    .dataframe thead th {\n",
       "        text-align: right;\n",
       "    }\n",
       "</style>\n",
       "<table border=\"1\" class=\"dataframe\">\n",
       "  <thead>\n",
       "    <tr style=\"text-align: right;\">\n",
       "      <th></th>\n",
       "      <th>date_added</th>\n",
       "      <th>release_year</th>\n",
       "    </tr>\n",
       "  </thead>\n",
       "  <tbody>\n",
       "    <tr>\n",
       "      <th>count</th>\n",
       "      <td>200</td>\n",
       "      <td>200.000000</td>\n",
       "    </tr>\n",
       "    <tr>\n",
       "      <th>mean</th>\n",
       "      <td>2021-09-08 12:21:36</td>\n",
       "      <td>2012.230000</td>\n",
       "    </tr>\n",
       "    <tr>\n",
       "      <th>min</th>\n",
       "      <td>2021-08-27 00:00:00</td>\n",
       "      <td>1961.000000</td>\n",
       "    </tr>\n",
       "    <tr>\n",
       "      <th>25%</th>\n",
       "      <td>2021-09-01 00:00:00</td>\n",
       "      <td>2005.750000</td>\n",
       "    </tr>\n",
       "    <tr>\n",
       "      <th>50%</th>\n",
       "      <td>2021-09-07 00:00:00</td>\n",
       "      <td>2018.000000</td>\n",
       "    </tr>\n",
       "    <tr>\n",
       "      <th>75%</th>\n",
       "      <td>2021-09-15 00:00:00</td>\n",
       "      <td>2021.000000</td>\n",
       "    </tr>\n",
       "    <tr>\n",
       "      <th>max</th>\n",
       "      <td>2021-09-25 00:00:00</td>\n",
       "      <td>2021.000000</td>\n",
       "    </tr>\n",
       "    <tr>\n",
       "      <th>std</th>\n",
       "      <td>NaN</td>\n",
       "      <td>11.609089</td>\n",
       "    </tr>\n",
       "  </tbody>\n",
       "</table>\n",
       "</div>"
      ],
      "text/plain": [
       "                date_added  release_year\n",
       "count                  200    200.000000\n",
       "mean   2021-09-08 12:21:36   2012.230000\n",
       "min    2021-08-27 00:00:00   1961.000000\n",
       "25%    2021-09-01 00:00:00   2005.750000\n",
       "50%    2021-09-07 00:00:00   2018.000000\n",
       "75%    2021-09-15 00:00:00   2021.000000\n",
       "max    2021-09-25 00:00:00   2021.000000\n",
       "std                    NaN     11.609089"
      ]
     },
     "execution_count": 78,
     "metadata": {},
     "output_type": "execute_result"
    }
   ],
   "source": [
    "nt_df.describe()"
   ]
  },
  {
   "cell_type": "markdown",
   "metadata": {},
   "source": [
    "Top countries"
   ]
  },
  {
   "cell_type": "code",
   "execution_count": 67,
   "metadata": {},
   "outputs": [
    {
     "data": {
      "text/plain": [
       "Text(0.5, 1.0, 'Top 10 country interms of content relaesing')"
      ]
     },
     "execution_count": 67,
     "metadata": {},
     "output_type": "execute_result"
    },
    {
     "data": {
      "image/png": "[encoded data removed]",
      "text/plain": [
       "<Figure size 640x480 with 1 Axes>"
      ]
     },
     "metadata": {},
     "output_type": "display_data"
    }
   ],
   "source": [
    "nt_df['country'].value_counts().head(10)\\\n",
    ".plot(kind='barh')\n",
    "plt.title('Top 10 country interms of content relaesing')"
   ]
  },
  {
   "cell_type": "markdown",
   "metadata": {},
   "source": [
    "When was content added the most"
   ]
  },
  {
   "cell_type": "code",
   "execution_count": 77,
   "metadata": {},
   "outputs": [
    {
     "data": {
      "image/png": "[encoded data removed]",
      "text/plain": [
       "<Figure size 640x480 with 1 Axes>"
      ]
     },
     "metadata": {},
     "output_type": "display_data"
    }
   ],
   "source": [
    "nt_df['release_year'].value_counts().sort_index().plot(linewidth=1,color='blue')\n",
    "plt.title('Content Release Distribution per year')\n",
    "plt.show()"
   ]
  },
  {
   "cell_type": "markdown",
   "metadata": {},
   "source": [
    "Dominating content"
   ]
  },
  {
   "cell_type": "code",
   "execution_count": 76,
   "metadata": {},
   "outputs": [
    {
     "data": {
      "image/png": "[encoded data removed]",
      "text/plain": [
       "<Figure size 640x480 with 1 Axes>"
      ]
     },
     "metadata": {},
     "output_type": "display_data"
    }
   ],
   "source": [
    "genres=nt_df['listed_in'].dropna().str.split(',')\n",
    "genres_pe=[c for sublist in genres for c in sublist]\n",
    "pd.Series(genres_pe).value_counts().head(10)\\\n",
    ".plot(kind='bar',color='coral')\n",
    "plt.title('Top 10 best genres')\n",
    "plt.show()"
   ]
  },
  {
   "cell_type": "markdown",
   "metadata": {},
   "source": [
    "Actors that were the most appearing (the top 10)"
   ]
  },
  {
   "cell_type": "code",
   "execution_count": 70,
   "metadata": {},
   "outputs": [
    {
     "data": {
      "image/png": "[encoded data removed]",
      "text/plain": [
       "<Figure size 640x480 with 1 Axes>"
      ]
     },
     "metadata": {},
     "output_type": "display_data"
    }
   ],
   "source": [
    "actors=nt_df['cast'].dropna().str.split(',')\n",
    "actors_pe=[x for sublist in actors for x in sublist]\n",
    "pd.Series(actors_pe).value_counts().head(10)\\\n",
    ".plot(kind='bar',color='teal')\n",
    "plt.title('Top 10 best Actors')\n",
    "plt.show()"
   ]
  },
  {
   "cell_type": "markdown",
   "metadata": {},
   "source": [
    "Conclusion\n",
    "-USA produces the most number of contents\n",
    "-International movies and action moveis are in high demand\n",
    "-New generaion movies released as from 2020 are viewd at a high rate\n",
    "-There are no that very dominant actors"
   ]
  },
  {
   "cell_type": "markdown",
   "metadata": {},
   "source": [
    "Recomendations\n",
    "-Look into and produce more of action and adventure movies\n",
    "-Geographical balance"
   ]
  }
 ],
 "metadata": {
  "kernelspec": {
   "display_name": "Python 3",
   "language": "python",
   "name": "python3"
  },
  "language_info": {
   "codemirror_mode": {
    "name": "ipython",
    "version": 3
   },
   "file_extension": ".py",
   "mimetype": "text/x-python",
   "name": "python",
   "nbconvert_exporter": "python",
   "pygments_lexer": "ipython3",
   "version": "3.13.2"
  }
 },
 "nbformat": 4,
 "nbformat_minor": 2
}
