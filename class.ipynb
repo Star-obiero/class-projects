{
 "cells": [
  {
   "cell_type": "markdown",
   "metadata": {},
   "source": [
    "While loops"
   ]
  },
  {
   "cell_type": "code",
   "execution_count": 4,
   "metadata": {},
   "outputs": [
    {
     "name": "stdout",
     "output_type": "stream",
     "text": [
      "0\n",
      "1\n",
      "2\n",
      "3\n",
      "4\n",
      "5\n",
      "6\n",
      "7\n",
      "8\n",
      "9\n",
      "10\n",
      "11 is > 10\n"
     ]
    }
   ],
   "source": [
    "a=0\n",
    "max=10\n",
    "while a<=10:\n",
    "    print(a)\n",
    "    a=a+1\n",
    "else:\n",
    "    print(f'{a} is > 10')"
   ]
  },
  {
   "cell_type": "code",
   "execution_count": 13,
   "metadata": {},
   "outputs": [
    {
     "data": {
      "text/plain": [
       "[12, 56, 78, 99, 44, 656, 7, 125, 1008, 8, 38, 224, 976, 23]"
      ]
     },
     "execution_count": 13,
     "metadata": {},
     "output_type": "execute_result"
    }
   ],
   "source": [
    "list_a=[12,56,78,99,44,656,7,125,1008,8,38,224,976,23]\n",
    "list_a"
   ]
  },
  {
   "cell_type": "code",
   "execution_count": 17,
   "metadata": {},
   "outputs": [
    {
     "name": "stdout",
     "output_type": "stream",
     "text": [
      "12\n",
      "12 is<500\n",
      "56\n",
      "56 is<500\n",
      "78\n",
      "78 is<500\n",
      "99\n",
      "99 is<500\n",
      "44\n",
      "44 is<500\n",
      "656\n",
      "656 is> 500\n",
      "7\n",
      "7 is<500\n",
      "125\n",
      "125 is<500\n",
      "1008 is>1000\n",
      "8\n",
      "8 is<500\n",
      "38\n",
      "38 is<500\n",
      "224\n",
      "224 is<500\n",
      "976\n",
      "976 is> 500\n",
      "23\n",
      "23 is<500\n"
     ]
    }
   ],
   "source": [
    "for i in list_a:\n",
    "    while i<1000:\n",
    "        print(i)\n",
    "        if i >500:\n",
    "            print(i,'is> 500')\n",
    "        else:\n",
    "            print(i,'is<500')\n",
    "        break\n",
    "    else:\n",
    "        print(i,'is>1000')"
   ]
  },
  {
   "cell_type": "markdown",
   "metadata": {},
   "source": [
    "Function"
   ]
  },
  {
   "cell_type": "code",
   "execution_count": null,
   "metadata": {},
   "outputs": [],
   "source": [
    "#def function_name(parameters):\n",
    "    #'''docstrings'''\n",
    "    #action/expression\n",
    "    #return expression /output"
   ]
  },
  {
   "cell_type": "code",
   "execution_count": 19,
   "metadata": {},
   "outputs": [],
   "source": [
    "def calculate_area(length,width):\n",
    "    area=length*width\n",
    "    return area"
   ]
  },
  {
   "cell_type": "code",
   "execution_count": null,
   "metadata": {},
   "outputs": [
    {
     "data": {
      "text/plain": [
       "120"
      ]
     },
     "execution_count": 20,
     "metadata": {},
     "output_type": "execute_result"
    }
   ],
   "source": [
    "#calling function\n",
    "calculate_area(12,10)"
   ]
  },
  {
   "cell_type": "code",
   "execution_count": 35,
   "metadata": {},
   "outputs": [
    {
     "name": "stdout",
     "output_type": "stream",
     "text": [
      "My name is  Ben\n"
     ]
    }
   ],
   "source": [
    "def print_names(*name):\n",
    "    return print('My name is ',name[1])\n",
    "    \n",
    "print_names('Noah','Ben')"
   ]
  },
  {
   "cell_type": "code",
   "execution_count": 33,
   "metadata": {},
   "outputs": [],
   "source": [
    "def calculate_area(height,width,shape):\n",
    "    if shape== 'square':\n",
    "     area=height*width\n",
    "     if shape=='triangle':\n",
    "        area=0.5*length*height\n",
    "    return area"
   ]
  },
  {
   "cell_type": "code",
   "execution_count": 36,
   "metadata": {},
   "outputs": [
    {
     "ename": "UnboundLocalError",
     "evalue": "cannot access local variable 'area' where it is not associated with a value",
     "output_type": "error",
     "traceback": [
      "\u001b[31m---------------------------------------------------------------------------\u001b[39m",
      "\u001b[31mUnboundLocalError\u001b[39m                         Traceback (most recent call last)",
      "\u001b[36mCell\u001b[39m\u001b[36m \u001b[39m\u001b[32mIn[36]\u001b[39m\u001b[32m, line 1\u001b[39m\n\u001b[32m----> \u001b[39m\u001b[32m1\u001b[39m \u001b[43mcalculate_area\u001b[49m\u001b[43m(\u001b[49m\u001b[32;43m12\u001b[39;49m\u001b[43m,\u001b[49m\u001b[32;43m2\u001b[39;49m\u001b[43m,\u001b[49m\u001b[33;43m'\u001b[39;49m\u001b[33;43mtriangle\u001b[39;49m\u001b[33;43m'\u001b[39;49m\u001b[43m)\u001b[49m\n",
      "\u001b[36mCell\u001b[39m\u001b[36m \u001b[39m\u001b[32mIn[33]\u001b[39m\u001b[32m, line 6\u001b[39m, in \u001b[36mcalculate_area\u001b[39m\u001b[34m(height, width, shape)\u001b[39m\n\u001b[32m      4\u001b[39m  \u001b[38;5;28;01mif\u001b[39;00m shape==\u001b[33m'\u001b[39m\u001b[33mtriangle\u001b[39m\u001b[33m'\u001b[39m:\n\u001b[32m      5\u001b[39m     area=\u001b[32m0.5\u001b[39m*length*height\n\u001b[32m----> \u001b[39m\u001b[32m6\u001b[39m \u001b[38;5;28;01mreturn\u001b[39;00m \u001b[43marea\u001b[49m\n",
      "\u001b[31mUnboundLocalError\u001b[39m: cannot access local variable 'area' where it is not associated with a value"
     ]
    }
   ],
   "source": [
    "calculate_area(12,2,'triangle')"
   ]
  },
  {
   "cell_type": "code",
   "execution_count": null,
   "metadata": {},
   "outputs": [],
   "source": [
    "cost_unit_area=500\n",
    "def calculate_painting_cost(height,width):\n",
    "    area=calculate_area(height)\n",
    "    cost=area*cost_unit_area\n",
    "    return cost"
   ]
  },
  {
   "cell_type": "code",
   "execution_count": 32,
   "metadata": {},
   "outputs": [
    {
     "data": {
      "text/plain": [
       "62842500"
      ]
     },
     "execution_count": 32,
     "metadata": {},
     "output_type": "execute_result"
    }
   ],
   "source": [
    "calculate_painting_cost(105,1197)"
   ]
  },
  {
   "cell_type": "markdown",
   "metadata": {},
   "source": [
    "Assignment"
   ]
  },
  {
   "cell_type": "code",
   "execution_count": 1,
   "metadata": {},
   "outputs": [
    {
     "name": "stdout",
     "output_type": "stream",
     "text": [
      "Sorry,toothpick is not availabel rigth now\n"
     ]
    }
   ],
   "source": [
    "stock={\n",
    "    \"surgar\":115,\n",
    "    \"milk\":100,\n",
    "    \"bread\":50,\n",
    "    \"soap\":511,\n",
    "    \"toothpicks\":0,\n",
    "}\n",
    "\n",
    "product=input(\"What product do you want to buy?\")\n",
    "\n",
    "if product in stock and stock>0:\n",
    "    print(f\"{product} is availabel, please proceed to payment.\")\n",
    "else:\n",
    "    print(f\"Sorry,{product} is not availabel rigth now\")"
   ]
  },
  {
   "cell_type": "markdown",
   "metadata": {},
   "source": [
    "For loop reviewing stock"
   ]
  },
  {
   "cell_type": "code",
   "execution_count": 3,
   "metadata": {},
   "outputs": [
    {
     "name": "stdout",
     "output_type": "stream",
     "text": [
      "Revewing stock and calculating revenue\n",
      "surgar:ksh57.5\n",
      "\n",
      "Estimated total revenue:ksh57.5\n",
      "milk:ksh70\n",
      "\n",
      "Estimated total revenue:ksh127.5\n",
      "bread:ksh60000\n",
      "\n",
      "Estimated total revenue:ksh60127.5\n",
      "soap:ksh150\n",
      "\n",
      "Estimated total revenue:ksh60277.5\n",
      "toothpicks:ksh45\n",
      "\n",
      "Estimated total revenue:ksh60322.5\n"
     ]
    }
   ],
   "source": [
    "stock={\n",
    "    \"surgar\":{'price':115,'quantity':1/2},\n",
    "    \"milk\":{'price':70,'quantity':1},\n",
    "    \"bread\":{'price':100,'quantity':600},\n",
    "    \"soap\":{'price':150,'quantity':1},\n",
    "    \"toothpicks\":{'price':45,'quantity':1},\n",
    "}\n",
    "total_revenue=0\n",
    "print('Revewing stock and calculating revenue')\n",
    "\n",
    "for product,data in stock.items():\n",
    "    revenue=data['price']*data['quantity']\n",
    "    total_revenue+=revenue\n",
    "    print(f'{product}:ksh{revenue}')\n",
    "    print(f'\\nEstimated total revenue:ksh{total_revenue}')\n"
   ]
  },
  {
   "cell_type": "markdown",
   "metadata": {},
   "source": [
    "While loop Setting a goals"
   ]
  },
  {
   "cell_type": "code",
   "execution_count": 3,
   "metadata": {},
   "outputs": [
    {
     "name": "stdout",
     "output_type": "stream",
     "text": [
      "Starting sales goals tracking...\n",
      "\n",
      "Total so far:ksh200\n",
      "\n",
      "Goal reached!Total sales:ksh200\n"
     ]
    }
   ],
   "source": [
    "target=100\n",
    "total_sales=0\n",
    "day=1\n",
    "print('Starting sales goals tracking...\\n')\n",
    "while total_sales<target:\n",
    "    print(f'Day{day}:')\n",
    "amount=int(input('Enter sales amount for this day'))\n",
    "total_sales+=amount\n",
    "print(f'Total so far:ksh{total_sales}\\n')\n",
    "day+=1\n",
    "print(f'Goal reached!Total sales:ksh{total_sales}')"
   ]
  },
  {
   "cell_type": "markdown",
   "metadata": {},
   "source": [
    "Functions  "
   ]
  },
  {
   "cell_type": "code",
   "execution_count": 30,
   "metadata": {},
   "outputs": [],
   "source": [
    "def calculate_profit_distribution():\n",
    "    total_sales= float(input('Enter the total sales(ksh):'))\n",
    "    total_cost=float(input('Enter the total cost(ksh):'))\n",
    "    num_wokers=int(input('How many wokers do you have:'))\n",
    "\n",
    "    profit=total_sales-total_cost\n",
    "    if num_wokers>0:\n",
    "        pay_per_woker=profit/num_wokers\n",
    "    else:\n",
    "        pay_per_woker=0\n",
    "\n",
    "        \n",
    "        \n",
    "    return profit,pay_per_woker\n",
    "\n",
    "       "
   ]
  },
  {
   "cell_type": "code",
   "execution_count": 32,
   "metadata": {},
   "outputs": [
    {
     "name": "stdout",
     "output_type": "stream",
     "text": [
      "\n",
      "Total profit:ksh1300000.0\n",
      "Each woker can be paid:ksh54166.67\n",
      "Please print valid numeric values for sale cost and number of wokers\n"
     ]
    }
   ],
   "source": [
    "profit,pay_per_woker=calculate_profit_distribution()\n",
    "print(f'\\nTotal profit:ksh{profit}')\n",
    "print(f\"Each woker can be paid:ksh{pay_per_woker:.2f}\")\n",
    "print('Please print valid numeric values for sale cost and number of wokers')"
   ]
  },
  {
   "cell_type": "code",
   "execution_count": 1,
   "metadata": {},
   "outputs": [],
   "source": [
    "\n",
    "stock={\n",
    "    \"sugar\":10,\n",
    "    \"milk\":23,\n",
    "    \"bread\":50,\n",
    "    \"soaps\":34,\n",
    "}"
   ]
  }
 ],
 "metadata": {
  "kernelspec": {
   "display_name": "Python 3",
   "language": "python",
   "name": "python3"
  },
  "language_info": {
   "codemirror_mode": {
    "name": "ipython",
    "version": 3
   },
   "file_extension": ".py",
   "mimetype": "text/x-python",
   "name": "python",
   "nbconvert_exporter": "python",
   "pygments_lexer": "ipython3",
   "version": "3.13.2"
  }
 },
 "nbformat": 4,
 "nbformat_minor": 2
}
